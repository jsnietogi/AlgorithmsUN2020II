{
  "nbformat": 4,
  "nbformat_minor": 0,
  "metadata": {
    "colab": {
      "name": "pancakes_2.ipynb",
      "provenance": []
    },
    "kernelspec": {
      "name": "python3",
      "display_name": "Python 3"
    }
  },
  "cells": [
    {
      "cell_type": "code",
      "metadata": {
        "id": "YnIQDsSwRXlF",
        "colab": {
          "base_uri": "https://localhost:8080/"
        },
        "outputId": "149d9585-4de4-412d-c9f1-97128dc4a3c9"
      },
      "source": [
        "from google.colab import drive\n",
        "drive.mount('/content/drive')"
      ],
      "execution_count": null,
      "outputs": [
        {
          "output_type": "stream",
          "text": [
            "Mounted at /content/drive\n"
          ],
          "name": "stdout"
        }
      ]
    },
    {
      "cell_type": "code",
      "metadata": {
        "id": "a9S2le5-qOY4"
      },
      "source": [
        "import pydot\n",
        "import math\n",
        "from collections import defaultdict \n",
        "from IPython.display import Image, display"
      ],
      "execution_count": null,
      "outputs": []
    },
    {
      "cell_type": "code",
      "metadata": {
        "id": "LbqWzFo7R3lb"
      },
      "source": [
        "def lstr(p):\n",
        "        return ''.join([str(elem)  for elem in p])"
      ],
      "execution_count": null,
      "outputs": []
    },
    {
      "cell_type": "code",
      "metadata": {
        "id": "TRDvsvjfd3Up"
      },
      "source": [
        "def pope(graph,elem):\n",
        "  max=0\n",
        "  for i in graph[elem]:\n",
        "    n=1+pope(graph,i)\n",
        "    if (max<n):\n",
        "      max = n\n",
        "  graph.pop(elem)\n",
        "  return max\n",
        "\n",
        "  "
      ],
      "execution_count": null,
      "outputs": []
    },
    {
      "cell_type": "code",
      "metadata": {
        "id": "r7LWsxETgFES"
      },
      "source": [
        "def get_first_key(dictionary):\n",
        "    for key in dictionary:\n",
        "        return key\n",
        "    raise IndexError"
      ],
      "execution_count": null,
      "outputs": []
    },
    {
      "cell_type": "code",
      "metadata": {
        "id": "G5Coq78jR4D5"
      },
      "source": [
        "def ModifiedBFSPreSols(s): \n",
        "        # Mark the source node as visited and enqueue it \n",
        "         # Create dictionaries graph,visited and pydot graph G\n",
        "         n=len(s)\n",
        "         graph = defaultdict()\n",
        "         visited = defaultdict()\n",
        "        # Create a queue for BFS \n",
        "         queue = [] \n",
        "         queue.append(s) \n",
        "         visited[lstr(s)] = True\n",
        "         while queue: \n",
        "            # Dequeue a vertex from queue \n",
        "            s = queue.pop(0) \n",
        "            graph[lstr(s)]=[]\n",
        "            # Get all adjacent vertices of the \n",
        "            # dequeued vertex s. If a adjacent \n",
        "            # has not been visited, then mark it \n",
        "            # visited and enqueue it\n",
        "            for i in range(len(s)-1):\n",
        "                  d = s[i+1::-1] + s[i+2:]\n",
        "                  if (d != s) and not(lstr(d) in visited.keys()):\n",
        "                    graph[lstr(s)].append(lstr(d))\n",
        "                    queue.append(d) \n",
        "                    visited[lstr(d)] = True \n",
        "         file=open(\"ou.txt\",\"a\")\n",
        "         file.write(\"pancake:\"+str(n)+\" pn= \"+str(pope(graph,get_first_key(graph)))+\" \\n\")\n",
        "         file.close()"
      ],
      "execution_count": null,
      "outputs": []
    },
    {
      "cell_type": "code",
      "metadata": {
        "id": "KNKqyPaEeLj6",
        "colab": {
          "base_uri": "https://localhost:8080/",
          "height": 363
        },
        "outputId": "7ca5c2e7-b148-4045-e1c8-a2269e9297e9"
      },
      "source": [
        "p = [1,2,3,4,5]\n",
        "i=5\n",
        "while i:\n",
        "  ModifiedBFSPreSols(p)\n",
        "  i+=1\n",
        "  p.append(i)\n",
        "  "
      ],
      "execution_count": 17,
      "outputs": [
        {
          "output_type": "error",
          "ename": "KeyboardInterrupt",
          "evalue": "ignored",
          "traceback": [
            "\u001b[0;31m---------------------------------------------------------------------------\u001b[0m",
            "\u001b[0;31mKeyboardInterrupt\u001b[0m                         Traceback (most recent call last)",
            "\u001b[0;32m<ipython-input-17-63d128fe7a4c>\u001b[0m in \u001b[0;36m<module>\u001b[0;34m()\u001b[0m\n\u001b[1;32m      2\u001b[0m \u001b[0mi\u001b[0m\u001b[0;34m=\u001b[0m\u001b[0;36m5\u001b[0m\u001b[0;34m\u001b[0m\u001b[0;34m\u001b[0m\u001b[0m\n\u001b[1;32m      3\u001b[0m \u001b[0;32mwhile\u001b[0m \u001b[0mi\u001b[0m\u001b[0;34m:\u001b[0m\u001b[0;34m\u001b[0m\u001b[0;34m\u001b[0m\u001b[0m\n\u001b[0;32m----> 4\u001b[0;31m   \u001b[0mModifiedBFSPreSols\u001b[0m\u001b[0;34m(\u001b[0m\u001b[0mp\u001b[0m\u001b[0;34m)\u001b[0m\u001b[0;34m\u001b[0m\u001b[0;34m\u001b[0m\u001b[0m\n\u001b[0m\u001b[1;32m      5\u001b[0m   \u001b[0mi\u001b[0m\u001b[0;34m+=\u001b[0m\u001b[0;36m1\u001b[0m\u001b[0;34m\u001b[0m\u001b[0;34m\u001b[0m\u001b[0m\n\u001b[1;32m      6\u001b[0m   \u001b[0mp\u001b[0m\u001b[0;34m.\u001b[0m\u001b[0mappend\u001b[0m\u001b[0;34m(\u001b[0m\u001b[0mi\u001b[0m\u001b[0;34m)\u001b[0m\u001b[0;34m\u001b[0m\u001b[0;34m\u001b[0m\u001b[0m\n",
            "\u001b[0;32m<ipython-input-16-9f773daa2457>\u001b[0m in \u001b[0;36mModifiedBFSPreSols\u001b[0;34m(s)\u001b[0m\n\u001b[1;32m     11\u001b[0m          \u001b[0;32mwhile\u001b[0m \u001b[0mqueue\u001b[0m\u001b[0;34m:\u001b[0m\u001b[0;34m\u001b[0m\u001b[0;34m\u001b[0m\u001b[0m\n\u001b[1;32m     12\u001b[0m             \u001b[0;31m# Dequeue a vertex from queue\u001b[0m\u001b[0;34m\u001b[0m\u001b[0;34m\u001b[0m\u001b[0;34m\u001b[0m\u001b[0m\n\u001b[0;32m---> 13\u001b[0;31m             \u001b[0ms\u001b[0m \u001b[0;34m=\u001b[0m \u001b[0mqueue\u001b[0m\u001b[0;34m.\u001b[0m\u001b[0mpop\u001b[0m\u001b[0;34m(\u001b[0m\u001b[0;36m0\u001b[0m\u001b[0;34m)\u001b[0m\u001b[0;34m\u001b[0m\u001b[0;34m\u001b[0m\u001b[0m\n\u001b[0m\u001b[1;32m     14\u001b[0m             \u001b[0mgraph\u001b[0m\u001b[0;34m[\u001b[0m\u001b[0mlstr\u001b[0m\u001b[0;34m(\u001b[0m\u001b[0ms\u001b[0m\u001b[0;34m)\u001b[0m\u001b[0;34m]\u001b[0m\u001b[0;34m=\u001b[0m\u001b[0;34m[\u001b[0m\u001b[0;34m]\u001b[0m\u001b[0;34m\u001b[0m\u001b[0;34m\u001b[0m\u001b[0m\n\u001b[1;32m     15\u001b[0m             \u001b[0;31m# Get all adjacent vertices of the\u001b[0m\u001b[0;34m\u001b[0m\u001b[0;34m\u001b[0m\u001b[0;34m\u001b[0m\u001b[0m\n",
            "\u001b[0;31mKeyboardInterrupt\u001b[0m: "
          ]
        }
      ]
    }
  ]
}